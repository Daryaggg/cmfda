{
 "cells": [
  {
   "cell_type": "markdown",
   "metadata": {},
   "source": [
    "# Что учить в 2016, чтобы получать REAL CASH"
   ]
  },
  {
   "cell_type": "code",
   "execution_count": 1,
   "metadata": {
    "collapsed": true
   },
   "outputs": [],
   "source": [
    "import numpy as np\n",
    "import pandas as pd\n",
    "from matplotlib import pyplot as plt\n",
    "%matplotlib inline\n",
    "plt.style.use('bmh')"
   ]
  },
  {
   "cell_type": "code",
   "execution_count": 2,
   "metadata": {
    "collapsed": true
   },
   "outputs": [],
   "source": [
    "import string\n",
    "import re"
   ]
  },
  {
   "cell_type": "code",
   "execution_count": 3,
   "metadata": {
    "collapsed": false
   },
   "outputs": [],
   "source": [
    "import random\n",
    "random.seed(0)\n",
    "np.random.seed(0)"
   ]
  },
  {
   "cell_type": "markdown",
   "metadata": {},
   "source": [
    "### Загружаем необработанные данные"
   ]
  },
  {
   "cell_type": "code",
   "execution_count": 4,
   "metadata": {
    "collapsed": true
   },
   "outputs": [],
   "source": [
    "data = pd.read_csv('rawdata.csv')"
   ]
  },
  {
   "cell_type": "code",
   "execution_count": 5,
   "metadata": {
    "collapsed": false
   },
   "outputs": [
    {
     "data": {
      "text/html": [
       "<div>\n",
       "<table border=\"1\" class=\"dataframe\">\n",
       "  <thead>\n",
       "    <tr style=\"text-align: right;\">\n",
       "      <th></th>\n",
       "      <th>_id</th>\n",
       "      <th>_name</th>\n",
       "      <th>_description</th>\n",
       "      <th>_salary</th>\n",
       "    </tr>\n",
       "  </thead>\n",
       "  <tbody>\n",
       "    <tr>\n",
       "      <th>0</th>\n",
       "      <td>18322907</td>\n",
       "      <td>senior php developer</td>\n",
       "      <td>ecommpay it - европейская высокотехнологичная ...</td>\n",
       "      <td>147500</td>\n",
       "    </tr>\n",
       "    <tr>\n",
       "      <th>1</th>\n",
       "      <td>18809284</td>\n",
       "      <td>senior frontend developer</td>\n",
       "      <td>русскоязычная команда программистов компании c...</td>\n",
       "      <td>120000</td>\n",
       "    </tr>\n",
       "    <tr>\n",
       "      <th>2</th>\n",
       "      <td>18686089</td>\n",
       "      <td>старший разработчик c#, asp.net mvc</td>\n",
       "      <td>&amp;quot;додо пицца&amp;quot; ищет талантливых разраб...</td>\n",
       "      <td>185000</td>\n",
       "    </tr>\n",
       "    <tr>\n",
       "      <th>3</th>\n",
       "      <td>18714668</td>\n",
       "      <td>web-программист</td>\n",
       "      <td>требования:  знание php, javascript, html, c...</td>\n",
       "      <td>45000</td>\n",
       "    </tr>\n",
       "    <tr>\n",
       "      <th>4</th>\n",
       "      <td>18774080</td>\n",
       "      <td>разработчик мобильных приложений под android</td>\n",
       "      <td>английский стартап - мобильное приложение для ...</td>\n",
       "      <td>155000</td>\n",
       "    </tr>\n",
       "    <tr>\n",
       "      <th>5</th>\n",
       "      <td>18755259</td>\n",
       "      <td>ios разработчик</td>\n",
       "      <td>компания-разработчик социальных и мобильных иг...</td>\n",
       "      <td>225000</td>\n",
       "    </tr>\n",
       "    <tr>\n",
       "      <th>6</th>\n",
       "      <td>18755204</td>\n",
       "      <td>системный администратор</td>\n",
       "      <td>требования к соискателю:  высшее образование, ...</td>\n",
       "      <td>65000</td>\n",
       "    </tr>\n",
       "    <tr>\n",
       "      <th>7</th>\n",
       "      <td>18714354</td>\n",
       "      <td>php-программист yii</td>\n",
       "      <td>интернет-агентство binn стабильно занимает вед...</td>\n",
       "      <td>70000</td>\n",
       "    </tr>\n",
       "    <tr>\n",
       "      <th>8</th>\n",
       "      <td>18773657</td>\n",
       "      <td>разработчик javascript</td>\n",
       "      <td>ищем разработчика на постоянную работу и полны...</td>\n",
       "      <td>90000</td>\n",
       "    </tr>\n",
       "    <tr>\n",
       "      <th>9</th>\n",
       "      <td>18553545</td>\n",
       "      <td>senior php developer (high load)</td>\n",
       "      <td>senior high load developer a flexible, full-ti...</td>\n",
       "      <td>150000</td>\n",
       "    </tr>\n",
       "  </tbody>\n",
       "</table>\n",
       "</div>"
      ],
      "text/plain": [
       "        _id                                         _name  \\\n",
       "0  18322907                          senior php developer   \n",
       "1  18809284                     senior frontend developer   \n",
       "2  18686089           старший разработчик c#, asp.net mvc   \n",
       "3  18714668                               web-программист   \n",
       "4  18774080  разработчик мобильных приложений под android   \n",
       "5  18755259                               ios разработчик   \n",
       "6  18755204                       системный администратор   \n",
       "7  18714354                           php-программист yii   \n",
       "8  18773657                        разработчик javascript   \n",
       "9  18553545              senior php developer (high load)   \n",
       "\n",
       "                                        _description  _salary  \n",
       "0  ecommpay it - европейская высокотехнологичная ...   147500  \n",
       "1  русскоязычная команда программистов компании c...   120000  \n",
       "2  &quot;додо пицца&quot; ищет талантливых разраб...   185000  \n",
       "3    требования:  знание php, javascript, html, c...    45000  \n",
       "4  английский стартап - мобильное приложение для ...   155000  \n",
       "5  компания-разработчик социальных и мобильных иг...   225000  \n",
       "6  требования к соискателю:  высшее образование, ...    65000  \n",
       "7  интернет-агентство binn стабильно занимает вед...    70000  \n",
       "8  ищем разработчика на постоянную работу и полны...    90000  \n",
       "9  senior high load developer a flexible, full-ti...   150000  "
      ]
     },
     "execution_count": 5,
     "metadata": {},
     "output_type": "execute_result"
    }
   ],
   "source": [
    "data.head(10)"
   ]
  },
  {
   "cell_type": "code",
   "execution_count": 6,
   "metadata": {
    "collapsed": false
   },
   "outputs": [
    {
     "data": {
      "text/plain": [
       "(1665, 4)"
      ]
     },
     "execution_count": 6,
     "metadata": {},
     "output_type": "execute_result"
    }
   ],
   "source": [
    "data.shape"
   ]
  },
  {
   "cell_type": "markdown",
   "metadata": {},
   "source": [
    "### Смотрим, есть ли дубликаты"
   ]
  },
  {
   "cell_type": "code",
   "execution_count": 7,
   "metadata": {
    "collapsed": false
   },
   "outputs": [
    {
     "data": {
      "text/plain": [
       "18228451    2\n",
       "17905074    2\n",
       "17074307    2\n",
       "18618443    2\n",
       "18333259    2\n",
       "11737110    2\n",
       "18484451    2\n",
       "18832487    2\n",
       "18645383    2\n",
       "18527003    2\n",
       "18031441    2\n",
       "18713913    1\n",
       "18277732    1\n",
       "18163046    1\n",
       "18652521    1\n",
       "Name: _id, dtype: int64"
      ]
     },
     "execution_count": 7,
     "metadata": {},
     "output_type": "execute_result"
    }
   ],
   "source": [
    "data['_id'].value_counts()[:15]"
   ]
  },
  {
   "cell_type": "markdown",
   "metadata": {},
   "source": [
    "Они есть. Выбросим их:"
   ]
  },
  {
   "cell_type": "code",
   "execution_count": 8,
   "metadata": {
    "collapsed": false
   },
   "outputs": [
    {
     "data": {
      "text/plain": [
       "(1665, 4)"
      ]
     },
     "execution_count": 8,
     "metadata": {},
     "output_type": "execute_result"
    }
   ],
   "source": [
    "data.shape"
   ]
  },
  {
   "cell_type": "code",
   "execution_count": 9,
   "metadata": {
    "collapsed": true
   },
   "outputs": [],
   "source": [
    "data.drop_duplicates(subset='_id', inplace=True)"
   ]
  },
  {
   "cell_type": "code",
   "execution_count": 10,
   "metadata": {
    "collapsed": false
   },
   "outputs": [
    {
     "data": {
      "text/plain": [
       "(1654, 4)"
      ]
     },
     "execution_count": 10,
     "metadata": {},
     "output_type": "execute_result"
    }
   ],
   "source": [
    "data.shape"
   ]
  },
  {
   "cell_type": "markdown",
   "metadata": {},
   "source": [
    "### Составляем список слов, начинающихся с латинской буквы"
   ]
  },
  {
   "cell_type": "code",
   "execution_count": 11,
   "metadata": {
    "collapsed": false
   },
   "outputs": [],
   "source": [
    "ss = []\n",
    "for i in range(data.shape[0]):\n",
    "    text = data.iloc[i]['_description']\n",
    "    words = re.split(\"([^\\w#+])\", text)\n",
    "    words = list(filter(lambda x: re.match('^[a-z]', x) is not None, words))\n",
    "    ss += words\n",
    "wset = set(ss)"
   ]
  },
  {
   "cell_type": "code",
   "execution_count": 12,
   "metadata": {
    "collapsed": false,
    "scrolled": true
   },
   "outputs": [
    {
     "data": {
      "text/plain": [
       "['a',\n",
       " 'aa',\n",
       " 'aasm',\n",
       " 'ab',\n",
       " 'abap',\n",
       " 'abbyy',\n",
       " 'ability',\n",
       " 'able',\n",
       " 'about',\n",
       " 'above',\n",
       " 'abroad',\n",
       " 'acca',\n",
       " 'acceptance',\n",
       " 'access',\n",
       " 'account']"
      ]
     },
     "execution_count": 12,
     "metadata": {},
     "output_type": "execute_result"
    }
   ],
   "source": [
    "sorted(wset)[:15]"
   ]
  },
  {
   "cell_type": "markdown",
   "metadata": {},
   "source": [
    "### Выбираем те, которые нам интересны"
   ]
  },
  {
   "cell_type": "code",
   "execution_count": 13,
   "metadata": {
    "collapsed": false
   },
   "outputs": [],
   "source": [
    "markers = ('python;perl;php;html;css;javascript;jquery;angular;react;scala;c++;c#;ruby;matlab;lisp;excel;office;'\n",
    "                'linux;windows;git;mercury;hadoop;spark;big data;oracle;microsoft;apache;google;facebook;apple;web;'\n",
    "                  'sql;android;ios;frontend;backend;gui;mobile;numpy;pandas;sklearn;svm;machine learning;'\n",
    "                  'wordpress;xml;delphi;1с;rails;django')\n",
    "markers = list(set(markers.split(';')))"
   ]
  },
  {
   "cell_type": "code",
   "execution_count": 14,
   "metadata": {
    "collapsed": false
   },
   "outputs": [],
   "source": [
    "for m in markers:\n",
    "    data[m] = data['_description'].apply(lambda x: m in x)*1"
   ]
  },
  {
   "cell_type": "code",
   "execution_count": 15,
   "metadata": {
    "collapsed": false
   },
   "outputs": [
    {
     "data": {
      "text/html": [
       "<div>\n",
       "<table border=\"1\" class=\"dataframe\">\n",
       "  <thead>\n",
       "    <tr style=\"text-align: right;\">\n",
       "      <th></th>\n",
       "      <th>_id</th>\n",
       "      <th>_name</th>\n",
       "      <th>_description</th>\n",
       "      <th>_salary</th>\n",
       "      <th>sql</th>\n",
       "      <th>mobile</th>\n",
       "      <th>scala</th>\n",
       "      <th>machine learning</th>\n",
       "      <th>android</th>\n",
       "      <th>windows</th>\n",
       "      <th>...</th>\n",
       "      <th>frontend</th>\n",
       "      <th>python</th>\n",
       "      <th>facebook</th>\n",
       "      <th>c++</th>\n",
       "      <th>perl</th>\n",
       "      <th>backend</th>\n",
       "      <th>sklearn</th>\n",
       "      <th>mercury</th>\n",
       "      <th>git</th>\n",
       "      <th>spark</th>\n",
       "    </tr>\n",
       "  </thead>\n",
       "  <tbody>\n",
       "    <tr>\n",
       "      <th>0</th>\n",
       "      <td>18322907</td>\n",
       "      <td>senior php developer</td>\n",
       "      <td>ecommpay it - европейская высокотехнологичная ...</td>\n",
       "      <td>147500</td>\n",
       "      <td>1</td>\n",
       "      <td>0</td>\n",
       "      <td>0</td>\n",
       "      <td>0</td>\n",
       "      <td>0</td>\n",
       "      <td>0</td>\n",
       "      <td>...</td>\n",
       "      <td>0</td>\n",
       "      <td>0</td>\n",
       "      <td>0</td>\n",
       "      <td>0</td>\n",
       "      <td>0</td>\n",
       "      <td>0</td>\n",
       "      <td>0</td>\n",
       "      <td>0</td>\n",
       "      <td>0</td>\n",
       "      <td>0</td>\n",
       "    </tr>\n",
       "    <tr>\n",
       "      <th>1</th>\n",
       "      <td>18809284</td>\n",
       "      <td>senior frontend developer</td>\n",
       "      <td>русскоязычная команда программистов компании c...</td>\n",
       "      <td>120000</td>\n",
       "      <td>1</td>\n",
       "      <td>0</td>\n",
       "      <td>0</td>\n",
       "      <td>0</td>\n",
       "      <td>0</td>\n",
       "      <td>0</td>\n",
       "      <td>...</td>\n",
       "      <td>1</td>\n",
       "      <td>0</td>\n",
       "      <td>0</td>\n",
       "      <td>0</td>\n",
       "      <td>0</td>\n",
       "      <td>0</td>\n",
       "      <td>0</td>\n",
       "      <td>0</td>\n",
       "      <td>0</td>\n",
       "      <td>0</td>\n",
       "    </tr>\n",
       "    <tr>\n",
       "      <th>2</th>\n",
       "      <td>18686089</td>\n",
       "      <td>старший разработчик c#, asp.net mvc</td>\n",
       "      <td>&amp;quot;додо пицца&amp;quot; ищет талантливых разраб...</td>\n",
       "      <td>185000</td>\n",
       "      <td>1</td>\n",
       "      <td>0</td>\n",
       "      <td>0</td>\n",
       "      <td>0</td>\n",
       "      <td>0</td>\n",
       "      <td>0</td>\n",
       "      <td>...</td>\n",
       "      <td>0</td>\n",
       "      <td>0</td>\n",
       "      <td>0</td>\n",
       "      <td>0</td>\n",
       "      <td>0</td>\n",
       "      <td>0</td>\n",
       "      <td>0</td>\n",
       "      <td>0</td>\n",
       "      <td>0</td>\n",
       "      <td>0</td>\n",
       "    </tr>\n",
       "  </tbody>\n",
       "</table>\n",
       "<p>3 rows × 53 columns</p>\n",
       "</div>"
      ],
      "text/plain": [
       "        _id                                _name  \\\n",
       "0  18322907                 senior php developer   \n",
       "1  18809284            senior frontend developer   \n",
       "2  18686089  старший разработчик c#, asp.net mvc   \n",
       "\n",
       "                                        _description  _salary  sql  mobile  \\\n",
       "0  ecommpay it - европейская высокотехнологичная ...   147500    1       0   \n",
       "1  русскоязычная команда программистов компании c...   120000    1       0   \n",
       "2  &quot;додо пицца&quot; ищет талантливых разраб...   185000    1       0   \n",
       "\n",
       "   scala  machine learning  android  windows  ...    frontend  python  \\\n",
       "0      0                 0        0        0  ...           0       0   \n",
       "1      0                 0        0        0  ...           1       0   \n",
       "2      0                 0        0        0  ...           0       0   \n",
       "\n",
       "   facebook  c++  perl  backend  sklearn  mercury  git  spark  \n",
       "0         0    0     0        0        0        0    0      0  \n",
       "1         0    0     0        0        0        0    0      0  \n",
       "2         0    0     0        0        0        0    0      0  \n",
       "\n",
       "[3 rows x 53 columns]"
      ]
     },
     "execution_count": 15,
     "metadata": {},
     "output_type": "execute_result"
    }
   ],
   "source": [
    "data.head(3)"
   ]
  },
  {
   "cell_type": "markdown",
   "metadata": {},
   "source": [
    "### Строим гистограмму зарплат\n",
    "Для всех вакансий из выборки"
   ]
  },
  {
   "cell_type": "code",
   "execution_count": 16,
   "metadata": {
    "collapsed": false
   },
   "outputs": [
    {
     "data": {
      "image/png": "[encoded data removed]",
      "text/plain": [
       "<matplotlib.figure.Figure at 0x7f24f027ae80>"
      ]
     },
     "metadata": {},
     "output_type": "display_data"
    }
   ],
   "source": [
    "plt.hist(data['_salary'], bins=20);"
   ]
  },
  {
   "cell_type": "code",
   "execution_count": 17,
   "metadata": {
    "collapsed": false
   },
   "outputs": [
    {
     "data": {
      "text/plain": [
       "count      1654.000000\n",
       "mean      99416.750907\n",
       "std       38056.300679\n",
       "min       15000.000000\n",
       "25%       70000.000000\n",
       "50%      100000.000000\n",
       "75%      120000.000000\n",
       "max      300000.000000\n",
       "Name: _salary, dtype: float64"
      ]
     },
     "execution_count": 17,
     "metadata": {},
     "output_type": "execute_result"
    }
   ],
   "source": [
    "data['_salary'].describe()"
   ]
  },
  {
   "cell_type": "markdown",
   "metadata": {},
   "source": [
    "### Удаляем редкие маркеры\n",
    "Удалим маркеры, которые есть меньше чем в 5 вакансиях, чтобы не строить статистику совсем уж по двум точкам"
   ]
  },
  {
   "cell_type": "code",
   "execution_count": 18,
   "metadata": {
    "collapsed": false
   },
   "outputs": [],
   "source": [
    "markers = list(filter(lambda x: data[data[x]>0].shape[0] >= 5, markers))"
   ]
  },
  {
   "cell_type": "markdown",
   "metadata": {},
   "source": [
    "Оставим только колонки с выбранными маркерами и техническими данными"
   ]
  },
  {
   "cell_type": "code",
   "execution_count": 19,
   "metadata": {
    "collapsed": true
   },
   "outputs": [],
   "source": [
    "data=data[['_id', '_name', '_description', '_salary']+markers]"
   ]
  },
  {
   "cell_type": "markdown",
   "metadata": {},
   "source": [
    "### Построим таблицу с выводами"
   ]
  },
  {
   "cell_type": "code",
   "execution_count": 20,
   "metadata": {
    "collapsed": false
   },
   "outputs": [],
   "source": [
    "rows = []\n",
    "j = 0\n",
    "for m in markers:\n",
    "    salaries = data[data[m]>0]['_salary']\n",
    "    data_row={'marker': m, 'median_salary': int(salaries.median()), 'big_salary': int(salaries.quantile(0.9)),\n",
    "             'std_salary_percent': int(100*salaries.std()/salaries.mean()),\n",
    "             'n_vacancies': len(salaries)}\n",
    "    rows.append(pd.DataFrame(data_row, index=[j]))\n",
    "    j += 1\n",
    "results = pd.concat(rows)[['marker', 'n_vacancies', 'median_salary', 'big_salary', 'std_salary_percent']]"
   ]
  },
  {
   "cell_type": "code",
   "execution_count": 21,
   "metadata": {
    "collapsed": false
   },
   "outputs": [
    {
     "data": {
      "text/html": [
       "<div>\n",
       "<table border=\"1\" class=\"dataframe\">\n",
       "  <thead>\n",
       "    <tr style=\"text-align: right;\">\n",
       "      <th></th>\n",
       "      <th>marker</th>\n",
       "      <th>n_vacancies</th>\n",
       "      <th>median_salary</th>\n",
       "      <th>big_salary</th>\n",
       "      <th>std_salary_percent</th>\n",
       "    </tr>\n",
       "  </thead>\n",
       "  <tbody>\n",
       "    <tr>\n",
       "      <th>2</th>\n",
       "      <td>scala</td>\n",
       "      <td>21</td>\n",
       "      <td>150000</td>\n",
       "      <td>200000</td>\n",
       "      <td>27</td>\n",
       "    </tr>\n",
       "    <tr>\n",
       "      <th>32</th>\n",
       "      <td>big data</td>\n",
       "      <td>6</td>\n",
       "      <td>146250</td>\n",
       "      <td>200000</td>\n",
       "      <td>34</td>\n",
       "    </tr>\n",
       "    <tr>\n",
       "      <th>16</th>\n",
       "      <td>apple</td>\n",
       "      <td>18</td>\n",
       "      <td>142500</td>\n",
       "      <td>195500</td>\n",
       "      <td>25</td>\n",
       "    </tr>\n",
       "    <tr>\n",
       "      <th>9</th>\n",
       "      <td>hadoop</td>\n",
       "      <td>9</td>\n",
       "      <td>140000</td>\n",
       "      <td>200000</td>\n",
       "      <td>24</td>\n",
       "    </tr>\n",
       "    <tr>\n",
       "      <th>23</th>\n",
       "      <td>react</td>\n",
       "      <td>102</td>\n",
       "      <td>120000</td>\n",
       "      <td>150000</td>\n",
       "      <td>22</td>\n",
       "    </tr>\n",
       "    <tr>\n",
       "      <th>3</th>\n",
       "      <td>android</td>\n",
       "      <td>99</td>\n",
       "      <td>120000</td>\n",
       "      <td>170000</td>\n",
       "      <td>34</td>\n",
       "    </tr>\n",
       "    <tr>\n",
       "      <th>39</th>\n",
       "      <td>backend</td>\n",
       "      <td>53</td>\n",
       "      <td>120000</td>\n",
       "      <td>150000</td>\n",
       "      <td>33</td>\n",
       "    </tr>\n",
       "    <tr>\n",
       "      <th>6</th>\n",
       "      <td>ios</td>\n",
       "      <td>96</td>\n",
       "      <td>120000</td>\n",
       "      <td>182500</td>\n",
       "      <td>33</td>\n",
       "    </tr>\n",
       "    <tr>\n",
       "      <th>37</th>\n",
       "      <td>c++</td>\n",
       "      <td>101</td>\n",
       "      <td>110000</td>\n",
       "      <td>170000</td>\n",
       "      <td>37</td>\n",
       "    </tr>\n",
       "    <tr>\n",
       "      <th>22</th>\n",
       "      <td>angular</td>\n",
       "      <td>130</td>\n",
       "      <td>110000</td>\n",
       "      <td>150000</td>\n",
       "      <td>27</td>\n",
       "    </tr>\n",
       "    <tr>\n",
       "      <th>18</th>\n",
       "      <td>c#</td>\n",
       "      <td>143</td>\n",
       "      <td>110000</td>\n",
       "      <td>150000</td>\n",
       "      <td>29</td>\n",
       "    </tr>\n",
       "    <tr>\n",
       "      <th>24</th>\n",
       "      <td>google</td>\n",
       "      <td>48</td>\n",
       "      <td>107500</td>\n",
       "      <td>151500</td>\n",
       "      <td>34</td>\n",
       "    </tr>\n",
       "    <tr>\n",
       "      <th>11</th>\n",
       "      <td>gui</td>\n",
       "      <td>22</td>\n",
       "      <td>107500</td>\n",
       "      <td>164500</td>\n",
       "      <td>37</td>\n",
       "    </tr>\n",
       "    <tr>\n",
       "      <th>36</th>\n",
       "      <td>facebook</td>\n",
       "      <td>17</td>\n",
       "      <td>105000</td>\n",
       "      <td>124000</td>\n",
       "      <td>26</td>\n",
       "    </tr>\n",
       "    <tr>\n",
       "      <th>25</th>\n",
       "      <td>oracle</td>\n",
       "      <td>103</td>\n",
       "      <td>105000</td>\n",
       "      <td>150000</td>\n",
       "      <td>33</td>\n",
       "    </tr>\n",
       "    <tr>\n",
       "      <th>0</th>\n",
       "      <td>sql</td>\n",
       "      <td>754</td>\n",
       "      <td>100000</td>\n",
       "      <td>145000</td>\n",
       "      <td>34</td>\n",
       "    </tr>\n",
       "    <tr>\n",
       "      <th>28</th>\n",
       "      <td>xml</td>\n",
       "      <td>108</td>\n",
       "      <td>100000</td>\n",
       "      <td>140000</td>\n",
       "      <td>32</td>\n",
       "    </tr>\n",
       "    <tr>\n",
       "      <th>30</th>\n",
       "      <td>linux</td>\n",
       "      <td>209</td>\n",
       "      <td>100000</td>\n",
       "      <td>148000</td>\n",
       "      <td>33</td>\n",
       "    </tr>\n",
       "    <tr>\n",
       "      <th>33</th>\n",
       "      <td>apache</td>\n",
       "      <td>45</td>\n",
       "      <td>100000</td>\n",
       "      <td>140000</td>\n",
       "      <td>34</td>\n",
       "    </tr>\n",
       "    <tr>\n",
       "      <th>35</th>\n",
       "      <td>python</td>\n",
       "      <td>121</td>\n",
       "      <td>100000</td>\n",
       "      <td>170000</td>\n",
       "      <td>37</td>\n",
       "    </tr>\n",
       "    <tr>\n",
       "      <th>34</th>\n",
       "      <td>frontend</td>\n",
       "      <td>65</td>\n",
       "      <td>100000</td>\n",
       "      <td>150000</td>\n",
       "      <td>32</td>\n",
       "    </tr>\n",
       "    <tr>\n",
       "      <th>40</th>\n",
       "      <td>git</td>\n",
       "      <td>429</td>\n",
       "      <td>100000</td>\n",
       "      <td>150000</td>\n",
       "      <td>32</td>\n",
       "    </tr>\n",
       "    <tr>\n",
       "      <th>1</th>\n",
       "      <td>mobile</td>\n",
       "      <td>22</td>\n",
       "      <td>100000</td>\n",
       "      <td>163500</td>\n",
       "      <td>42</td>\n",
       "    </tr>\n",
       "    <tr>\n",
       "      <th>13</th>\n",
       "      <td>office</td>\n",
       "      <td>45</td>\n",
       "      <td>100000</td>\n",
       "      <td>158000</td>\n",
       "      <td>45</td>\n",
       "    </tr>\n",
       "    <tr>\n",
       "      <th>12</th>\n",
       "      <td>django</td>\n",
       "      <td>32</td>\n",
       "      <td>100000</td>\n",
       "      <td>144000</td>\n",
       "      <td>25</td>\n",
       "    </tr>\n",
       "    <tr>\n",
       "      <th>10</th>\n",
       "      <td>web</td>\n",
       "      <td>390</td>\n",
       "      <td>100000</td>\n",
       "      <td>150000</td>\n",
       "      <td>36</td>\n",
       "    </tr>\n",
       "    <tr>\n",
       "      <th>7</th>\n",
       "      <td>javascript</td>\n",
       "      <td>429</td>\n",
       "      <td>100000</td>\n",
       "      <td>140000</td>\n",
       "      <td>33</td>\n",
       "    </tr>\n",
       "    <tr>\n",
       "      <th>5</th>\n",
       "      <td>ruby</td>\n",
       "      <td>39</td>\n",
       "      <td>100000</td>\n",
       "      <td>200000</td>\n",
       "      <td>38</td>\n",
       "    </tr>\n",
       "    <tr>\n",
       "      <th>17</th>\n",
       "      <td>rails</td>\n",
       "      <td>22</td>\n",
       "      <td>97500</td>\n",
       "      <td>133500</td>\n",
       "      <td>30</td>\n",
       "    </tr>\n",
       "    <tr>\n",
       "      <th>14</th>\n",
       "      <td>microsoft</td>\n",
       "      <td>55</td>\n",
       "      <td>97000</td>\n",
       "      <td>136000</td>\n",
       "      <td>36</td>\n",
       "    </tr>\n",
       "    <tr>\n",
       "      <th>38</th>\n",
       "      <td>perl</td>\n",
       "      <td>23</td>\n",
       "      <td>95000</td>\n",
       "      <td>144000</td>\n",
       "      <td>28</td>\n",
       "    </tr>\n",
       "    <tr>\n",
       "      <th>15</th>\n",
       "      <td>1с</td>\n",
       "      <td>393</td>\n",
       "      <td>95000</td>\n",
       "      <td>137400</td>\n",
       "      <td>36</td>\n",
       "    </tr>\n",
       "    <tr>\n",
       "      <th>29</th>\n",
       "      <td>delphi</td>\n",
       "      <td>23</td>\n",
       "      <td>95000</td>\n",
       "      <td>123000</td>\n",
       "      <td>37</td>\n",
       "    </tr>\n",
       "    <tr>\n",
       "      <th>20</th>\n",
       "      <td>css</td>\n",
       "      <td>416</td>\n",
       "      <td>90000</td>\n",
       "      <td>140000</td>\n",
       "      <td>38</td>\n",
       "    </tr>\n",
       "    <tr>\n",
       "      <th>19</th>\n",
       "      <td>html</td>\n",
       "      <td>455</td>\n",
       "      <td>90000</td>\n",
       "      <td>140000</td>\n",
       "      <td>39</td>\n",
       "    </tr>\n",
       "    <tr>\n",
       "      <th>4</th>\n",
       "      <td>windows</td>\n",
       "      <td>80</td>\n",
       "      <td>90000</td>\n",
       "      <td>150000</td>\n",
       "      <td>38</td>\n",
       "    </tr>\n",
       "    <tr>\n",
       "      <th>8</th>\n",
       "      <td>jquery</td>\n",
       "      <td>269</td>\n",
       "      <td>90000</td>\n",
       "      <td>135000</td>\n",
       "      <td>34</td>\n",
       "    </tr>\n",
       "    <tr>\n",
       "      <th>27</th>\n",
       "      <td>excel</td>\n",
       "      <td>34</td>\n",
       "      <td>87500</td>\n",
       "      <td>150000</td>\n",
       "      <td>46</td>\n",
       "    </tr>\n",
       "    <tr>\n",
       "      <th>21</th>\n",
       "      <td>php</td>\n",
       "      <td>382</td>\n",
       "      <td>85000</td>\n",
       "      <td>135000</td>\n",
       "      <td>39</td>\n",
       "    </tr>\n",
       "    <tr>\n",
       "      <th>31</th>\n",
       "      <td>matlab</td>\n",
       "      <td>14</td>\n",
       "      <td>75000</td>\n",
       "      <td>165500</td>\n",
       "      <td>65</td>\n",
       "    </tr>\n",
       "    <tr>\n",
       "      <th>26</th>\n",
       "      <td>wordpress</td>\n",
       "      <td>31</td>\n",
       "      <td>55000</td>\n",
       "      <td>95000</td>\n",
       "      <td>41</td>\n",
       "    </tr>\n",
       "  </tbody>\n",
       "</table>\n",
       "</div>"
      ],
      "text/plain": [
       "        marker  n_vacancies  median_salary  big_salary  std_salary_percent\n",
       "2        scala           21         150000      200000                  27\n",
       "32    big data            6         146250      200000                  34\n",
       "16       apple           18         142500      195500                  25\n",
       "9       hadoop            9         140000      200000                  24\n",
       "23       react          102         120000      150000                  22\n",
       "3      android           99         120000      170000                  34\n",
       "39     backend           53         120000      150000                  33\n",
       "6          ios           96         120000      182500                  33\n",
       "37         c++          101         110000      170000                  37\n",
       "22     angular          130         110000      150000                  27\n",
       "18          c#          143         110000      150000                  29\n",
       "24      google           48         107500      151500                  34\n",
       "11         gui           22         107500      164500                  37\n",
       "36    facebook           17         105000      124000                  26\n",
       "25      oracle          103         105000      150000                  33\n",
       "0          sql          754         100000      145000                  34\n",
       "28         xml          108         100000      140000                  32\n",
       "30       linux          209         100000      148000                  33\n",
       "33      apache           45         100000      140000                  34\n",
       "35      python          121         100000      170000                  37\n",
       "34    frontend           65         100000      150000                  32\n",
       "40         git          429         100000      150000                  32\n",
       "1       mobile           22         100000      163500                  42\n",
       "13      office           45         100000      158000                  45\n",
       "12      django           32         100000      144000                  25\n",
       "10         web          390         100000      150000                  36\n",
       "7   javascript          429         100000      140000                  33\n",
       "5         ruby           39         100000      200000                  38\n",
       "17       rails           22          97500      133500                  30\n",
       "14   microsoft           55          97000      136000                  36\n",
       "38        perl           23          95000      144000                  28\n",
       "15          1с          393          95000      137400                  36\n",
       "29      delphi           23          95000      123000                  37\n",
       "20         css          416          90000      140000                  38\n",
       "19        html          455          90000      140000                  39\n",
       "4      windows           80          90000      150000                  38\n",
       "8       jquery          269          90000      135000                  34\n",
       "27       excel           34          87500      150000                  46\n",
       "21         php          382          85000      135000                  39\n",
       "31      matlab           14          75000      165500                  65\n",
       "26   wordpress           31          55000       95000                  41"
      ]
     },
     "execution_count": 21,
     "metadata": {},
     "output_type": "execute_result"
    }
   ],
   "source": [
    "results.sort_values(by='median_salary', ascending=False)"
   ]
  },
  {
   "cell_type": "markdown",
   "metadata": {},
   "source": [
    "### Построим пару гистограмм"
   ]
  },
  {
   "cell_type": "code",
   "execution_count": 22,
   "metadata": {
    "collapsed": false
   },
   "outputs": [
    {
     "data": {
      "image/png": "[encoded data removed]",
      "text/plain": [
       "<matplotlib.figure.Figure at 0x7f24f027a550>"
      ]
     },
     "metadata": {},
     "output_type": "display_data"
    }
   ],
   "source": [
    "plt.hist(data[data['wordpress']>0]['_salary'], bins=20, range=(10000,300000));"
   ]
  },
  {
   "cell_type": "code",
   "execution_count": 23,
   "metadata": {
    "collapsed": false
   },
   "outputs": [
    {
     "data": {
      "image/png": "[encoded data removed]",
      "text/plain": [
       "<matplotlib.figure.Figure at 0x7f24d0a0ffd0>"
      ]
     },
     "metadata": {},
     "output_type": "display_data"
    }
   ],
   "source": [
    "plt.hist(data[data['scala']>0]['_salary'], bins=20, range=(10000,300000));"
   ]
  },
  {
   "cell_type": "code",
   "execution_count": 24,
   "metadata": {
    "collapsed": false
   },
   "outputs": [
    {
     "data": {
      "image/png": "[encoded data removed]",
      "text/plain": [
       "<matplotlib.figure.Figure at 0x7f24d0954ef0>"
      ]
     },
     "metadata": {},
     "output_type": "display_data"
    }
   ],
   "source": [
    "plt.hist(data[data['android']>0]['_salary'], bins=20, range=(10000,300000));"
   ]
  },
  {
   "cell_type": "markdown",
   "metadata": {
    "collapsed": true
   },
   "source": [
    "### Запишем данные"
   ]
  },
  {
   "cell_type": "code",
   "execution_count": 25,
   "metadata": {
    "collapsed": true
   },
   "outputs": [],
   "source": [
    "results.to_csv(path_or_buf='report.csv', index=False)"
   ]
  },
  {
   "cell_type": "code",
   "execution_count": null,
   "metadata": {
    "collapsed": true
   },
   "outputs": [],
   "source": []
  }
 ],
 "metadata": {
  "anaconda-cloud": {},
  "kernelspec": {
   "display_name": "Python [Root]",
   "language": "python",
   "name": "Python [Root]"
  },
  "language_info": {
   "codemirror_mode": {
    "name": "ipython",
    "version": 3
   },
   "file_extension": ".py",
   "mimetype": "text/x-python",
   "name": "python",
   "nbconvert_exporter": "python",
   "pygments_lexer": "ipython3",
   "version": "3.5.2"
  }
 },
 "nbformat": 4,
 "nbformat_minor": 0
}
