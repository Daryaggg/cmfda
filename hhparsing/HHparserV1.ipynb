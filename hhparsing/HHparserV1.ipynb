{
 "cells": [
  {
   "cell_type": "markdown",
   "metadata": {},
   "source": [
    "# Парсим HeadHunter (hh.ru)"
   ]
  },
  {
   "cell_type": "markdown",
   "metadata": {},
   "source": [
    "### Импортируем все самое нужное"
   ]
  },
  {
   "cell_type": "code",
   "execution_count": 1,
   "metadata": {
    "collapsed": true
   },
   "outputs": [],
   "source": [
    "import requests\n",
    "import sys, os\n",
    "import json\n",
    "import re\n",
    "import pandas as pd\n",
    "import time"
   ]
  },
  {
   "cell_type": "markdown",
   "metadata": {},
   "source": [
    "### У hh.ru есть официальное API \n",
    "Парсить сам сайт просто GET-запросами они не дают, надо либо вести себя как браузер (см. selenium) либо воспользоваться API. Мы выбираем второй вариант. Посмотрим, какие у них есть специальности"
   ]
  },
  {
   "cell_type": "code",
   "execution_count": 2,
   "metadata": {
    "collapsed": true
   },
   "outputs": [],
   "source": [
    "url = 'https://api.hh.ru/specializations'"
   ]
  },
  {
   "cell_type": "code",
   "execution_count": 3,
   "metadata": {
    "collapsed": false
   },
   "outputs": [
    {
     "data": {
      "text/plain": [
       "b'[{\"specializations\":[{\"id\":\"24.492\",\"name\":\"\\xd0\\x9c\\xd0\\xb0\\xd1\\x81\\xd1\\x81\\xd0\\xb0\\xd0\\xb6\\xd0\\xb8\\xd1\\x81\\xd1\\x82\"},{\"id\":\"24.493\",\"name\":\"\\xd0\\x9f\\xd0\\xb0\\xd1\\x80\\xd0\\xb8\\xd0\\xba\\xd0\\xbc\\xd0\\xb0\\xd1\\x85\\xd0\\xb5\\xd1\\x80\"},{\"id\":\"24.624\",\"name\":\"\\xd0\\x9d\\xd0\\xbe\\xd0\\xb3\\xd1\\x82\\xd0\\xb5\\xd0\\xb2\\xd0\\xbe\\xd0\\xb9 \\xd1\\x81\\xd0\\xb5\\xd1\\x80\\xd0\\xb2\\xd0\\xb8\\xd1\\x81\"},{\"id\":\"24.377\",\"name\":\"\\xd0\\x9a\\xd0\\xbe\\xd1\\x81\\xd0\\xbc\\xd0\\xb5\\xd1'"
      ]
     },
     "execution_count": 3,
     "metadata": {},
     "output_type": "execute_result"
    }
   ],
   "source": [
    "page = requests.get(url).content\n",
    "page[:200]"
   ]
  },
  {
   "cell_type": "markdown",
   "metadata": {},
   "source": [
    "Все данные в побайтовом виде - надо привести их к юникоду (декодировать). Делаем это:"
   ]
  },
  {
   "cell_type": "code",
   "execution_count": 4,
   "metadata": {
    "collapsed": false
   },
   "outputs": [
    {
     "data": {
      "text/plain": [
       "'[{\"specializations\":[{\"id\":\"24.492\",\"name\":\"массажист\"},{\"id\":\"24.493\",\"name\":\"парикмахер\"},{\"id\":\"24.624\",\"name\":\"ногтевой сервис\"},{\"id\":\"24.377\",\"name\":\"косметология\"},{\"id\":\"24.378\",\"name\":\"тренер'"
      ]
     },
     "execution_count": 4,
     "metadata": {},
     "output_type": "execute_result"
    }
   ],
   "source": [
    "page = page.decode(encoding='utf-8').lower()\n",
    "page[:200]"
   ]
  },
  {
   "cell_type": "markdown",
   "metadata": {},
   "source": [
    "Пытаемся найти среди этих специальностей программирование:"
   ]
  },
  {
   "cell_type": "code",
   "execution_count": 5,
   "metadata": {
    "collapsed": false
   },
   "outputs": [
    {
     "data": {
      "text/plain": [
       "'ержка, helpdesk\"},{\"id\":\"1.221\",\"name\":\"программирование, разработка\"},{\"id\":\"1.'"
      ]
     },
     "execution_count": 5,
     "metadata": {},
     "output_type": "execute_result"
    }
   ],
   "source": [
    "pos = page.find('программирование')\n",
    "page[pos-40:pos+40]"
   ]
  },
  {
   "cell_type": "markdown",
   "metadata": {},
   "source": [
    "Значит, нам нужна специальность 1.221"
   ]
  },
  {
   "cell_type": "code",
   "execution_count": 6,
   "metadata": {
    "collapsed": true
   },
   "outputs": [],
   "source": [
    "SPECID = '1.221'\n",
    "AREA = 1  # == Moscow"
   ]
  },
  {
   "cell_type": "markdown",
   "metadata": {},
   "source": [
    "### Спарсим какую-нибудь одну вакансию\n",
    "На одной странице мы будем выводить по одной вакансии (так удобней всего с точки зрения кода). Выведем первую страницу (т.е. страницу №0):"
   ]
  },
  {
   "cell_type": "code",
   "execution_count": 7,
   "metadata": {
    "collapsed": false
   },
   "outputs": [],
   "source": [
    "urltemplate = 'https://api.hh.ru/vacancies?specialization={}&area={}&only_with_salary=true&per_page=1&page={}'\n",
    "url = urltemplate.format(SPECID, AREA, 0)"
   ]
  },
  {
   "cell_type": "code",
   "execution_count": 8,
   "metadata": {
    "collapsed": false
   },
   "outputs": [
    {
     "data": {
      "text/plain": [
       "'{\"clusters\":null,\"items\":[{\"salary\":{\"to\":175000,\"from\":120000,\"currency\":\"rur\"},\"snippet\":{\"requirement\":\"php - сильные и слабые стороны языка. иметь опыт проектирования реляционных баз данных (postgresql, mysql), опыт работы с большими объемами данных. \",\"responsibility\":\"разрабатывать приложение по приему и обработке онлайн платежей в сфере эквайринговых cnp решений и мобильной коммерции. активно участвовать во всём...\"},\"archived\":false,\"premium\":false,\"name\":\"senior php developer\",\"area\":{\"url\":\"https://api.hh.ru/areas/1\",\"id\":\"1\",\"name\":\"москва\"},\"url\":\"https://api.hh.ru/vacancies/18322907?host=hh.ru\",\"created_at\":\"2016-11-05t22:52:42+0300\",\"apply_alternate_url\":\"https://hh.ru/applicant/vacancy_response?vacancyid=18322907\",\"relations\":[],\"employer\":{\"logo_urls\":{\"90\":\"https://hhcdn.ru/employer-logo/1777010.jpeg\",\"original\":\"https://hhcdn.ru/employer-logo-original/333665.jpg\",\"240\":\"https://hhcdn.ru/employer-logo/1777011.jpeg\"},\"vacancies_url\":\"https://api.hh.ru/vacancies?employer_id=802558\",\"name\":\"ecommpay it\",\"url\":\"https://api.hh.ru/employers/802558\",\"alternate_url\":\"https://hh.ru/employer/802558\",\"id\":\"802558\",\"trusted\":true},\"response_letter_required\":false,\"published_at\":\"2016-11-05t22:52:42+0300\",\"address\":{\"building\":\"2с4\",\"city\":\"москва\",\"description\":null,\"metro\":{\"line_name\":\"замоскворецкая\",\"station_id\":\"2.101\",\"line_id\":\"2\",\"lat\":55.729741,\"station_name\":\"павелецкая\",\"lng\":37.638693},\"metro_stations\":[{\"line_name\":\"замоскворецкая\",\"station_id\":\"2.101\",\"line_id\":\"2\",\"lat\":55.729741,\"station_name\":\"павелецкая\",\"lng\":37.638693}],\"raw\":null,\"street\":\"павелецкая набережная\",\"lat\":55.716529,\"lng\":37.64586,\"id\":\"500788\"},\"department\":null,\"alternate_url\":\"https://hh.ru/vacancy/18322907\",\"type\":{\"id\":\"open\",\"name\":\"открытая\"},\"id\":\"18322907\"}],\"found\":2092,\"per_page\":1,\"alternate_url\":\"https://hh.ru/search/vacancy?enable_snippets=true&items_on_page=1&specialization=1.221&only_with_salary=true&area=1\",\"page\":0,\"pages\":2000}'"
      ]
     },
     "execution_count": 8,
     "metadata": {},
     "output_type": "execute_result"
    }
   ],
   "source": [
    "content = requests.get(url).content.decode(encoding='utf-8').lower()\n",
    "content"
   ]
  },
  {
   "cell_type": "markdown",
   "metadata": {},
   "source": [
    "### Сделаем из этого JSON"
   ]
  },
  {
   "cell_type": "code",
   "execution_count": 9,
   "metadata": {
    "collapsed": true
   },
   "outputs": [],
   "source": [
    "content = json.loads(content)"
   ]
  },
  {
   "cell_type": "code",
   "execution_count": 10,
   "metadata": {
    "collapsed": false
   },
   "outputs": [
    {
     "data": {
      "text/plain": [
       "[{'address': {'building': '2с4',\n",
       "   'city': 'москва',\n",
       "   'description': None,\n",
       "   'id': '500788',\n",
       "   'lat': 55.716529,\n",
       "   'lng': 37.64586,\n",
       "   'metro': {'lat': 55.729741,\n",
       "    'line_id': '2',\n",
       "    'line_name': 'замоскворецкая',\n",
       "    'lng': 37.638693,\n",
       "    'station_id': '2.101',\n",
       "    'station_name': 'павелецкая'},\n",
       "   'metro_stations': [{'lat': 55.729741,\n",
       "     'line_id': '2',\n",
       "     'line_name': 'замоскворецкая',\n",
       "     'lng': 37.638693,\n",
       "     'station_id': '2.101',\n",
       "     'station_name': 'павелецкая'}],\n",
       "   'raw': None,\n",
       "   'street': 'павелецкая набережная'},\n",
       "  'alternate_url': 'https://hh.ru/vacancy/18322907',\n",
       "  'apply_alternate_url': 'https://hh.ru/applicant/vacancy_response?vacancyid=18322907',\n",
       "  'archived': False,\n",
       "  'area': {'id': '1', 'name': 'москва', 'url': 'https://api.hh.ru/areas/1'},\n",
       "  'created_at': '2016-11-05t22:52:42+0300',\n",
       "  'department': None,\n",
       "  'employer': {'alternate_url': 'https://hh.ru/employer/802558',\n",
       "   'id': '802558',\n",
       "   'logo_urls': {'240': 'https://hhcdn.ru/employer-logo/1777011.jpeg',\n",
       "    '90': 'https://hhcdn.ru/employer-logo/1777010.jpeg',\n",
       "    'original': 'https://hhcdn.ru/employer-logo-original/333665.jpg'},\n",
       "   'name': 'ecommpay it',\n",
       "   'trusted': True,\n",
       "   'url': 'https://api.hh.ru/employers/802558',\n",
       "   'vacancies_url': 'https://api.hh.ru/vacancies?employer_id=802558'},\n",
       "  'id': '18322907',\n",
       "  'name': 'senior php developer',\n",
       "  'premium': False,\n",
       "  'published_at': '2016-11-05t22:52:42+0300',\n",
       "  'relations': [],\n",
       "  'response_letter_required': False,\n",
       "  'salary': {'currency': 'rur', 'from': 120000, 'to': 175000},\n",
       "  'snippet': {'requirement': 'php - сильные и слабые стороны языка. иметь опыт проектирования реляционных баз данных (postgresql, mysql), опыт работы с большими объемами данных. ',\n",
       "   'responsibility': 'разрабатывать приложение по приему и обработке онлайн платежей в сфере эквайринговых cnp решений и мобильной коммерции. активно участвовать во всём...'},\n",
       "  'type': {'id': 'open', 'name': 'открытая'},\n",
       "  'url': 'https://api.hh.ru/vacancies/18322907?host=hh.ru'}]"
      ]
     },
     "execution_count": 10,
     "metadata": {},
     "output_type": "execute_result"
    }
   ],
   "source": [
    "content['items']"
   ]
  },
  {
   "cell_type": "code",
   "execution_count": 11,
   "metadata": {
    "collapsed": false
   },
   "outputs": [
    {
     "data": {
      "text/plain": [
       "'https://api.hh.ru/vacancies/18322907?host=hh.ru'"
      ]
     },
     "execution_count": 11,
     "metadata": {},
     "output_type": "execute_result"
    }
   ],
   "source": [
    "smallurl = content['items'][0]['url']\n",
    "smallurl"
   ]
  },
  {
   "cell_type": "markdown",
   "metadata": {},
   "source": [
    "### Скачаем саму вакансию\n",
    "Теперь, когда мы получили URL вакансии, мы можем посмотреть на нее более детально"
   ]
  },
  {
   "cell_type": "code",
   "execution_count": 12,
   "metadata": {
    "collapsed": false
   },
   "outputs": [
    {
     "data": {
      "text/plain": [
       "'{\"alternate_url\":\"https://hh.ru/vacancy/18322907\",\"code\":null,\"premium\":false,\"description\":\"<p><strong>ecommpay it</strong> - европейская высокотехнологичная компания, предлагающая комплексные решени'"
      ]
     },
     "execution_count": 12,
     "metadata": {},
     "output_type": "execute_result"
    }
   ],
   "source": [
    "job = requests.get(smallurl).content.decode(encoding='utf-8').lower()\n",
    "job[:200]"
   ]
  },
  {
   "cell_type": "code",
   "execution_count": 13,
   "metadata": {
    "collapsed": false
   },
   "outputs": [],
   "source": [
    "job = json.loads(job)"
   ]
  },
  {
   "cell_type": "code",
   "execution_count": 14,
   "metadata": {
    "collapsed": false
   },
   "outputs": [
    {
     "data": {
      "text/plain": [
       "{'accept_handicapped': False,\n",
       " 'address': {'building': '2с4',\n",
       "  'city': 'москва',\n",
       "  'description': None,\n",
       "  'lat': 55.716529,\n",
       "  'lng': 37.64586,\n",
       "  'metro': {'lat': 55.729741,\n",
       "   'line_id': '2',\n",
       "   'line_name': 'замоскворецкая',\n",
       "   'lng': 37.638693,\n",
       "   'station_id': '2.101',\n",
       "   'station_name': 'павелецкая'},\n",
       "  'metro_stations': [{'lat': 55.729741,\n",
       "    'line_id': '2',\n",
       "    'line_name': 'замоскворецкая',\n",
       "    'lng': 37.638693,\n",
       "    'station_id': '2.101',\n",
       "    'station_name': 'павелецкая'}],\n",
       "  'raw': None,\n",
       "  'street': 'павелецкая набережная'},\n",
       " 'allow_messages': True,\n",
       " 'alternate_url': 'https://hh.ru/vacancy/18322907',\n",
       " 'apply_alternate_url': 'https://hh.ru/applicant/vacancy_response?vacancyid=18322907',\n",
       " 'archived': False,\n",
       " 'area': {'id': '1',\n",
       "  'name': 'москва',\n",
       "  'url': 'https://api.hh.ru/areas/1?host=hh.ru'},\n",
       " 'billing_type': {'id': 'standard_plus', 'name': 'стандарт+'},\n",
       " 'branded_description': None,\n",
       " 'code': None,\n",
       " 'contacts': None,\n",
       " 'created_at': '2016-11-05t22:52:42+0300',\n",
       " 'department': None,\n",
       " 'description': '<p><strong>ecommpay it</strong> - европейская высокотехнологичная компания, предлагающая комплексные решения по приему и обработке онлайн платежей в сфере эквайринговых cnp решений и мобильной коммерции. <strong>ecommpay it </strong>входит в группу компаний <strong>ecommpay</strong>, которая является провайдером инновационных и уникальных платежных решений для широкого круга проектов э-коммерции во всех странах мира.</p> <p>компания успешно продвигает инновационные финансовые решения в области электронных платежей и уже реализовала более 30-ти крупных e- и m-commerce проектов. благодаря команде ит-профессионалов платежной индустрии, качественному менеджменту и собственному отлаженному производству программного обеспечения.</p> <p><strong>ecommpay it</strong> помогает своим клиентам запускать новые эффективные продукты и услуги.</p> <p> </p> <p>мы ищем в команду опытных разработчиков, увлеченных своим делом, которые готовы участвовать в разработке большого проекта.</p> <p> </p> <p><strong>чем придётся заниматься:</strong></p> <ul> <li>разрабатывать приложение по приему и обработке онлайн платежей в сфере эквайринговых cnp решений и мобильной коммерции;</li> <li>активно участвовать во всём процессе разработки, начиная с проектирования и заканчивая запуском и поддержкой;</li> <li>активно взаимодействовать с коллегами, обсуждать дизайн приложений;</li> <li>предлагать и внедрять высокотехнологичные, инновационные решения;</li> <li>оптимизировать приложение, искать узкие места, при необходимости придумывать и реализовывать средства визуализации и мониторинга;</li> </ul> <p> </p> <p><strong>что нужно знать и уметь:</strong></p> <ul> <li>php - сильные и слабые стороны языка;</li> <li>иметь опыт проектирования реляционных баз данных (postgresql, mysql), опыт работы с большими объемами данных;</li> <li>понимать стратегию оптимизации приложений;</li> <li>иметь опыт разработки проектов с помощью одного из framework-ов: yii, onphp;</li> <li>обладать бойцовскими качествами, быть ориентированным на результат;</li> <li>уметь соблюсти срок или вовремя сигнализировать о проблемах;</li> </ul> <p> </p> <p><strong>условия:</strong></p> <ul> <li>отличная команда профессионалов;</li> <li>официальное оформление;</li> <li>гибкий график работы;</li> <li>офис – м.павелецкая, бесплатный шаттл от метро;</li> <li>бесплатное обучение английскому языку в офисе;</li> <li>бесплатное питание;</li> <li>корпоративные спортивные мероприятия;</li> <li>возможность профессионального роста и развития.</li> </ul>',\n",
       " 'employer': {'alternate_url': 'https://hh.ru/employer/802558',\n",
       "  'id': '802558',\n",
       "  'logo_urls': {'240': 'https://hhcdn.ru/employer-logo/1777011.jpeg',\n",
       "   '90': 'https://hhcdn.ru/employer-logo/1777010.jpeg',\n",
       "   'original': 'https://hhcdn.ru/employer-logo-original/333665.jpg'},\n",
       "  'name': 'ecommpay it',\n",
       "  'trusted': True,\n",
       "  'url': 'https://api.hh.ru/employers/802558?host=hh.ru',\n",
       "  'vacancies_url': 'https://api.hh.ru/vacancies?employer_id=802558&host=hh.ru'},\n",
       " 'employment': {'id': 'full', 'name': 'полная занятость'},\n",
       " 'experience': {'id': 'morethan6', 'name': 'более 6 лет'},\n",
       " 'hidden': False,\n",
       " 'id': '18322907',\n",
       " 'key_skills': [],\n",
       " 'name': 'senior php developer',\n",
       " 'negotiations_url': None,\n",
       " 'premium': False,\n",
       " 'published_at': '2016-11-05t22:52:42+0300',\n",
       " 'quick_responses_allowed': False,\n",
       " 'relations': [],\n",
       " 'response_letter_required': False,\n",
       " 'response_url': None,\n",
       " 'salary': {'currency': 'rur', 'from': 120000, 'to': 175000},\n",
       " 'schedule': {'id': 'fullday', 'name': 'полный день'},\n",
       " 'site': {'id': 'hh', 'name': 'hh.ru'},\n",
       " 'specializations': [{'id': '1.221',\n",
       "   'name': 'программирование, разработка',\n",
       "   'profarea_id': '1',\n",
       "   'profarea_name': 'информационные технологии, интернет, телеком'}],\n",
       " 'suitable_resumes_url': None,\n",
       " 'test': None,\n",
       " 'type': {'id': 'open', 'name': 'открытая'}}"
      ]
     },
     "execution_count": 14,
     "metadata": {},
     "output_type": "execute_result"
    }
   ],
   "source": [
    "job"
   ]
  },
  {
   "cell_type": "markdown",
   "metadata": {},
   "source": [
    "### Отсеиваем неподходящие вакансии"
   ]
  },
  {
   "cell_type": "code",
   "execution_count": 15,
   "metadata": {
    "collapsed": false
   },
   "outputs": [],
   "source": [
    "currency = job['salary']['currency']\n",
    "salaryMin = job['salary']['from']\n",
    "salaryMax = job['salary']['to']\n",
    "employment = job['employment']['id']"
   ]
  },
  {
   "cell_type": "markdown",
   "metadata": {},
   "source": [
    "Не будем принимать вакансии, в которых цена указана не в рублях (обычно это значит, что работодатель не из России). Также не будем принимать вакансии с неполной занятостью (они будут портить статистику) и вакансии, в которых не указан минимальный размер зарплаты (вакансии вида \"до 40000 руб.\"):"
   ]
  },
  {
   "cell_type": "code",
   "execution_count": 16,
   "metadata": {
    "collapsed": false
   },
   "outputs": [],
   "source": [
    "if salaryMin == 'none' or currency != 'rur' or employment != 'full':\n",
    "    print('BAD VACANCY!!')"
   ]
  },
  {
   "cell_type": "markdown",
   "metadata": {},
   "source": [
    "В качестве зарплаты возьмем среднюю между максимальной и минимальной зарплатой (середину вилки). Если указана только минимальная, будем использвать ее:"
   ]
  },
  {
   "cell_type": "code",
   "execution_count": 17,
   "metadata": {
    "collapsed": false
   },
   "outputs": [
    {
     "data": {
      "text/plain": [
       "147500"
      ]
     },
     "execution_count": 17,
     "metadata": {},
     "output_type": "execute_result"
    }
   ],
   "source": [
    "if salaryMax == None:\n",
    "    salaryMax = salaryMin\n",
    "salary = 0.5 * (salaryMin + salaryMax)\n",
    "int(salary)"
   ]
  },
  {
   "cell_type": "markdown",
   "metadata": {},
   "source": [
    "### Начнем собирать словарик из данных\n",
    "Позже (в том ноутбуке, где мы будем анализировать данные) станет понятно, почему я начинаю названия столбцов с символа подчеркивания"
   ]
  },
  {
   "cell_type": "code",
   "execution_count": 18,
   "metadata": {
    "collapsed": true
   },
   "outputs": [],
   "source": [
    "data_row = {}"
   ]
  },
  {
   "cell_type": "code",
   "execution_count": 19,
   "metadata": {
    "collapsed": true
   },
   "outputs": [],
   "source": [
    "data_row['_salary'] = int(salary)"
   ]
  },
  {
   "cell_type": "code",
   "execution_count": 20,
   "metadata": {
    "collapsed": false,
    "scrolled": true
   },
   "outputs": [
    {
     "data": {
      "text/plain": [
       "'<p><strong>ecommpay it</strong> - европейская высокотехнологичная компания, предлагающая комплексные решения по приему и обработке онлайн платежей в сфере эквайринговых cnp решений и мобильной коммерции. <strong>ecommpay it </strong>входит в группу компаний <strong>ecommpay</strong>, которая является провайдером инновационных и уникальных платежных решений для широкого круга проектов э-коммерции во всех странах мира.</p> <p>компания успешно продвигает инновационные финансовые решения в области электронных платежей и уже реализовала более 30-ти крупных e- и m-commerce проектов. благодаря команде ит-профессионалов платежной индустрии, качественному менеджменту и собственному отлаженному производству программного обеспечения.</p> <p><strong>ecommpay it</strong> помогает своим клиентам запускать новые эффективные продукты и услуги.</p> <p> </p> <p>мы ищем в команду опытных разработчиков, увлеченных своим делом, которые готовы участвовать в разработке большого проекта.</p> <p> </p> <p><strong>чем придётся заниматься:</strong></p> <ul> <li>разрабатывать приложение по приему и обработке онлайн платежей в сфере эквайринговых cnp решений и мобильной коммерции;</li> <li>активно участвовать во всём процессе разработки, начиная с проектирования и заканчивая запуском и поддержкой;</li> <li>активно взаимодействовать с коллегами, обсуждать дизайн приложений;</li> <li>предлагать и внедрять высокотехнологичные, инновационные решения;</li> <li>оптимизировать приложение, искать узкие места, при необходимости придумывать и реализовывать средства визуализации и мониторинга;</li> </ul> <p> </p> <p><strong>что нужно знать и уметь:</strong></p> <ul> <li>php - сильные и слабые стороны языка;</li> <li>иметь опыт проектирования реляционных баз данных (postgresql, mysql), опыт работы с большими объемами данных;</li> <li>понимать стратегию оптимизации приложений;</li> <li>иметь опыт разработки проектов с помощью одного из framework-ов: yii, onphp;</li> <li>обладать бойцовскими качествами, быть ориентированным на результат;</li> <li>уметь соблюсти срок или вовремя сигнализировать о проблемах;</li> </ul> <p> </p> <p><strong>условия:</strong></p> <ul> <li>отличная команда профессионалов;</li> <li>официальное оформление;</li> <li>гибкий график работы;</li> <li>офис – м.павелецкая, бесплатный шаттл от метро;</li> <li>бесплатное обучение английскому языку в офисе;</li> <li>бесплатное питание;</li> <li>корпоративные спортивные мероприятия;</li> <li>возможность профессионального роста и развития.</li> </ul>'"
      ]
     },
     "execution_count": 20,
     "metadata": {},
     "output_type": "execute_result"
    }
   ],
   "source": [
    "desc = job['description']\n",
    "desc"
   ]
  },
  {
   "cell_type": "markdown",
   "metadata": {},
   "source": [
    "Уберем из описания все HTML-тэги:"
   ]
  },
  {
   "cell_type": "code",
   "execution_count": 21,
   "metadata": {
    "collapsed": false
   },
   "outputs": [
    {
     "data": {
      "text/plain": [
       "'ecommpay it - европейская высокотехнологичная компания, предлагающая комплексные решения по приему и обработке онлайн платежей в сфере эквайринговых cnp решений и мобильной коммерции. ecommpay it входит в группу компаний ecommpay, которая является провайдером инновационных и уникальных платежных решений для широкого круга проектов э-коммерции во всех странах мира. компания успешно продвигает инновационные финансовые решения в области электронных платежей и уже реализовала более 30-ти крупных e- и m-commerce проектов. благодаря команде ит-профессионалов платежной индустрии, качественному менеджменту и собственному отлаженному производству программного обеспечения. ecommpay it помогает своим клиентам запускать новые эффективные продукты и услуги.   мы ищем в команду опытных разработчиков, увлеченных своим делом, которые готовы участвовать в разработке большого проекта.   чем придётся заниматься:  разрабатывать приложение по приему и обработке онлайн платежей в сфере эквайринговых cnp решений и мобильной коммерции; активно участвовать во всём процессе разработки, начиная с проектирования и заканчивая запуском и поддержкой; активно взаимодействовать с коллегами, обсуждать дизайн приложений; предлагать и внедрять высокотехнологичные, инновационные решения; оптимизировать приложение, искать узкие места, при необходимости придумывать и реализовывать средства визуализации и мониторинга;    что нужно знать и уметь:  php - сильные и слабые стороны языка; иметь опыт проектирования реляционных баз данных (postgresql, mysql), опыт работы с большими объемами данных; понимать стратегию оптимизации приложений; иметь опыт разработки проектов с помощью одного из framework-ов: yii, onphp; обладать бойцовскими качествами, быть ориентированным на результат; уметь соблюсти срок или вовремя сигнализировать о проблемах;    условия:  отличная команда профессионалов; официальное оформление; гибкий график работы; офис – м.павелецкая, бесплатный шаттл от метро; бесплатное обучение английскому языку в офисе; бесплатное питание; корпоративные спортивные мероприятия; возможность профессионального роста и развития. '"
      ]
     },
     "execution_count": 21,
     "metadata": {},
     "output_type": "execute_result"
    }
   ],
   "source": [
    "desc = re.sub('<[^<]+?>', '', desc)\n",
    "desc"
   ]
  },
  {
   "cell_type": "markdown",
   "metadata": {},
   "source": [
    "### Скоро мы сможем смотреть, что же нужно работодателю"
   ]
  },
  {
   "cell_type": "code",
   "execution_count": 22,
   "metadata": {
    "collapsed": false
   },
   "outputs": [
    {
     "data": {
      "text/plain": [
       "True"
      ]
     },
     "execution_count": 22,
     "metadata": {},
     "output_type": "execute_result"
    }
   ],
   "source": [
    "'php' in desc"
   ]
  },
  {
   "cell_type": "code",
   "execution_count": 23,
   "metadata": {
    "collapsed": false
   },
   "outputs": [
    {
     "data": {
      "text/plain": [
       "False"
      ]
     },
     "execution_count": 23,
     "metadata": {},
     "output_type": "execute_result"
    }
   ],
   "source": [
    "'ruby' in desc"
   ]
  },
  {
   "cell_type": "code",
   "execution_count": 24,
   "metadata": {
    "collapsed": false
   },
   "outputs": [],
   "source": [
    "data_row['_description'] = desc\n",
    "data_row['_id'] = job['id']\n",
    "data_row['_name'] = job['name']"
   ]
  },
  {
   "cell_type": "code",
   "execution_count": 25,
   "metadata": {
    "collapsed": false
   },
   "outputs": [
    {
     "data": {
      "text/plain": [
       "{'_description': 'ecommpay it - европейская высокотехнологичная компания, предлагающая комплексные решения по приему и обработке онлайн платежей в сфере эквайринговых cnp решений и мобильной коммерции. ecommpay it входит в группу компаний ecommpay, которая является провайдером инновационных и уникальных платежных решений для широкого круга проектов э-коммерции во всех странах мира. компания успешно продвигает инновационные финансовые решения в области электронных платежей и уже реализовала более 30-ти крупных e- и m-commerce проектов. благодаря команде ит-профессионалов платежной индустрии, качественному менеджменту и собственному отлаженному производству программного обеспечения. ecommpay it помогает своим клиентам запускать новые эффективные продукты и услуги.   мы ищем в команду опытных разработчиков, увлеченных своим делом, которые готовы участвовать в разработке большого проекта.   чем придётся заниматься:  разрабатывать приложение по приему и обработке онлайн платежей в сфере эквайринговых cnp решений и мобильной коммерции; активно участвовать во всём процессе разработки, начиная с проектирования и заканчивая запуском и поддержкой; активно взаимодействовать с коллегами, обсуждать дизайн приложений; предлагать и внедрять высокотехнологичные, инновационные решения; оптимизировать приложение, искать узкие места, при необходимости придумывать и реализовывать средства визуализации и мониторинга;    что нужно знать и уметь:  php - сильные и слабые стороны языка; иметь опыт проектирования реляционных баз данных (postgresql, mysql), опыт работы с большими объемами данных; понимать стратегию оптимизации приложений; иметь опыт разработки проектов с помощью одного из framework-ов: yii, onphp; обладать бойцовскими качествами, быть ориентированным на результат; уметь соблюсти срок или вовремя сигнализировать о проблемах;    условия:  отличная команда профессионалов; официальное оформление; гибкий график работы; офис – м.павелецкая, бесплатный шаттл от метро; бесплатное обучение английскому языку в офисе; бесплатное питание; корпоративные спортивные мероприятия; возможность профессионального роста и развития. ',\n",
       " '_id': '18322907',\n",
       " '_name': 'senior php developer',\n",
       " '_salary': 147500}"
      ]
     },
     "execution_count": 25,
     "metadata": {},
     "output_type": "execute_result"
    }
   ],
   "source": [
    "data_row"
   ]
  },
  {
   "cell_type": "markdown",
   "metadata": {},
   "source": [
    "### Словарик получен, делаем из него DataFrame"
   ]
  },
  {
   "cell_type": "code",
   "execution_count": 26,
   "metadata": {
    "collapsed": false
   },
   "outputs": [
    {
     "data": {
      "text/html": [
       "<div>\n",
       "<table border=\"1\" class=\"dataframe\">\n",
       "  <thead>\n",
       "    <tr style=\"text-align: right;\">\n",
       "      <th></th>\n",
       "      <th>_id</th>\n",
       "      <th>_name</th>\n",
       "      <th>_description</th>\n",
       "      <th>_salary</th>\n",
       "    </tr>\n",
       "  </thead>\n",
       "  <tbody>\n",
       "    <tr>\n",
       "      <th>0</th>\n",
       "      <td>18322907</td>\n",
       "      <td>senior php developer</td>\n",
       "      <td>ecommpay it - европейская высокотехнологичная ...</td>\n",
       "      <td>147500</td>\n",
       "    </tr>\n",
       "  </tbody>\n",
       "</table>\n",
       "</div>"
      ],
      "text/plain": [
       "        _id                 _name  \\\n",
       "0  18322907  senior php developer   \n",
       "\n",
       "                                        _description  _salary  \n",
       "0  ecommpay it - европейская высокотехнологичная ...   147500  "
      ]
     },
     "execution_count": 26,
     "metadata": {},
     "output_type": "execute_result"
    }
   ],
   "source": [
    "pd.DataFrame(data_row, columns=['_id', '_name', '_description', '_salary'], index=[0])"
   ]
  },
  {
   "cell_type": "markdown",
   "metadata": {},
   "source": [
    "### Повторяем то же самое, но для 2000 вакансий\n",
    "Создаем список словариков rows, потом сделаем из них один большой DataFrame "
   ]
  },
  {
   "cell_type": "code",
   "execution_count": 76,
   "metadata": {
    "collapsed": false
   },
   "outputs": [],
   "source": [
    "NPAGES = 2000\n",
    "rows = []\n",
    "j = 0\n",
    "for i in range(NPAGES):\n",
    "    if i % 50 == 0:\n",
    "        print('{0:5.1%} completed'.format(i/NPAGES))\n",
    "    url = urltemplate.format(SPECID, AREA, i)\n",
    "    time.sleep(0.05)\n",
    "    content = requests.get(url).content.decode(encoding='utf-8').lower()\n",
    "    content = json.loads(content)\n",
    "    smallurl = content['items'][0]['url']\n",
    "    time.sleep(0.05)\n",
    "    job = requests.get(smallurl).content.decode(encoding='utf-8').lower()\n",
    "    job = json.loads(job)\n",
    "    currency = job['salary']['currency']\n",
    "    salaryF = job['salary']['from']\n",
    "    salaryT = job['salary']['to']\n",
    "    employment = job['employment']['id']\n",
    "    if salaryF == None or currency != 'rur' or employment != 'full':\n",
    "        continue\n",
    "    if salaryT == None:\n",
    "        salaryT = salaryF\n",
    "    salary = 0.5 * (salaryT + salaryF)\n",
    "    data_row = {}\n",
    "    data_row['_salary'] = int(salary)\n",
    "    desc = re.sub('<[^<]+?>', '', job['description'])\n",
    "    data_row['_description'] = desc\n",
    "    data_row['_id'] = job['id']\n",
    "    data_row['_name'] = job['name']\n",
    "    rows += [ pd.DataFrame(data_row, columns=['_id', '_name', '_description', '_salary'], index=[j]) ]\n",
    "    j += 1"
   ]
  },
  {
   "cell_type": "markdown",
   "metadata": {},
   "source": [
    "### Собираем DataFrame, пишем его в файл"
   ]
  },
  {
   "cell_type": "code",
   "execution_count": 79,
   "metadata": {
    "collapsed": false
   },
   "outputs": [
    {
     "data": {
      "text/html": [
       "<div>\n",
       "<table border=\"1\" class=\"dataframe\">\n",
       "  <thead>\n",
       "    <tr style=\"text-align: right;\">\n",
       "      <th></th>\n",
       "      <th>_id</th>\n",
       "      <th>_name</th>\n",
       "      <th>_description</th>\n",
       "      <th>_salary</th>\n",
       "    </tr>\n",
       "  </thead>\n",
       "  <tbody>\n",
       "    <tr>\n",
       "      <th>0</th>\n",
       "      <td>18322907</td>\n",
       "      <td>senior php developer</td>\n",
       "      <td>ecommpay it - европейская высокотехнологичная ...</td>\n",
       "      <td>147500</td>\n",
       "    </tr>\n",
       "    <tr>\n",
       "      <th>1</th>\n",
       "      <td>18809284</td>\n",
       "      <td>senior frontend developer</td>\n",
       "      <td>русскоязычная команда программистов компании c...</td>\n",
       "      <td>120000</td>\n",
       "    </tr>\n",
       "    <tr>\n",
       "      <th>2</th>\n",
       "      <td>18686089</td>\n",
       "      <td>старший разработчик c#, asp.net mvc</td>\n",
       "      <td>&amp;quot;додо пицца&amp;quot; ищет талантливых разраб...</td>\n",
       "      <td>185000</td>\n",
       "    </tr>\n",
       "    <tr>\n",
       "      <th>3</th>\n",
       "      <td>18714668</td>\n",
       "      <td>web-программист</td>\n",
       "      <td>требования:  знание php, javascript, html, c...</td>\n",
       "      <td>45000</td>\n",
       "    </tr>\n",
       "    <tr>\n",
       "      <th>4</th>\n",
       "      <td>18774080</td>\n",
       "      <td>разработчик мобильных приложений под android</td>\n",
       "      <td>английский стартап - мобильное приложение для ...</td>\n",
       "      <td>155000</td>\n",
       "    </tr>\n",
       "  </tbody>\n",
       "</table>\n",
       "</div>"
      ],
      "text/plain": [
       "        _id                                         _name  \\\n",
       "0  18322907                          senior php developer   \n",
       "1  18809284                     senior frontend developer   \n",
       "2  18686089           старший разработчик c#, asp.net mvc   \n",
       "3  18714668                               web-программист   \n",
       "4  18774080  разработчик мобильных приложений под android   \n",
       "\n",
       "                                        _description  _salary  \n",
       "0  ecommpay it - европейская высокотехнологичная ...   147500  \n",
       "1  русскоязычная команда программистов компании c...   120000  \n",
       "2  &quot;додо пицца&quot; ищет талантливых разраб...   185000  \n",
       "3    требования:  знание php, javascript, html, c...    45000  \n",
       "4  английский стартап - мобильное приложение для ...   155000  "
      ]
     },
     "execution_count": 79,
     "metadata": {},
     "output_type": "execute_result"
    }
   ],
   "source": [
    "df = pd.concat(rows, axis=0)\n",
    "df.head(5)"
   ]
  },
  {
   "cell_type": "code",
   "execution_count": 80,
   "metadata": {
    "collapsed": true
   },
   "outputs": [],
   "source": [
    "df.to_csv('rawdata.csv', index=False)"
   ]
  },
  {
   "cell_type": "code",
   "execution_count": null,
   "metadata": {
    "collapsed": true
   },
   "outputs": [],
   "source": []
  }
 ],
 "metadata": {
  "anaconda-cloud": {},
  "kernelspec": {
   "display_name": "Python [Root]",
   "language": "python",
   "name": "Python [Root]"
  },
  "language_info": {
   "codemirror_mode": {
    "name": "ipython",
    "version": 3
   },
   "file_extension": ".py",
   "mimetype": "text/x-python",
   "name": "python",
   "nbconvert_exporter": "python",
   "pygments_lexer": "ipython3",
   "version": "3.5.2"
  }
 },
 "nbformat": 4,
 "nbformat_minor": 0
}
